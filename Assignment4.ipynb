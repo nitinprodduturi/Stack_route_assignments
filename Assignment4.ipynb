{
  "nbformat": 4,
  "nbformat_minor": 0,
  "metadata": {
    "colab": {
      "provenance": []
    },
    "kernelspec": {
      "name": "python3",
      "display_name": "Python 3"
    },
    "language_info": {
      "name": "python"
    }
  },
  "cells": [
    {
      "cell_type": "code",
      "execution_count": 8,
      "metadata": {
        "colab": {
          "base_uri": "https://localhost:8080/"
        },
        "id": "dq06FilFj-LM",
        "outputId": "a047f486-6438-4589-8e5e-2d3ec475a705"
      },
      "outputs": [
        {
          "output_type": "stream",
          "name": "stdout",
          "text": [
            "Requirement already satisfied: google-generativeai in /usr/local/lib/python3.11/dist-packages (0.8.4)\n",
            "Requirement already satisfied: google-ai-generativelanguage==0.6.15 in /usr/local/lib/python3.11/dist-packages (from google-generativeai) (0.6.15)\n",
            "Requirement already satisfied: google-api-core in /usr/local/lib/python3.11/dist-packages (from google-generativeai) (2.24.2)\n",
            "Requirement already satisfied: google-api-python-client in /usr/local/lib/python3.11/dist-packages (from google-generativeai) (2.164.0)\n",
            "Requirement already satisfied: google-auth>=2.15.0 in /usr/local/lib/python3.11/dist-packages (from google-generativeai) (2.38.0)\n",
            "Requirement already satisfied: protobuf in /usr/local/lib/python3.11/dist-packages (from google-generativeai) (5.29.4)\n",
            "Requirement already satisfied: pydantic in /usr/local/lib/python3.11/dist-packages (from google-generativeai) (2.11.3)\n",
            "Requirement already satisfied: tqdm in /usr/local/lib/python3.11/dist-packages (from google-generativeai) (4.67.1)\n",
            "Requirement already satisfied: typing-extensions in /usr/local/lib/python3.11/dist-packages (from google-generativeai) (4.13.2)\n",
            "Requirement already satisfied: proto-plus<2.0.0dev,>=1.22.3 in /usr/local/lib/python3.11/dist-packages (from google-ai-generativelanguage==0.6.15->google-generativeai) (1.26.1)\n",
            "Requirement already satisfied: googleapis-common-protos<2.0.0,>=1.56.2 in /usr/local/lib/python3.11/dist-packages (from google-api-core->google-generativeai) (1.70.0)\n",
            "Requirement already satisfied: requests<3.0.0,>=2.18.0 in /usr/local/lib/python3.11/dist-packages (from google-api-core->google-generativeai) (2.32.3)\n",
            "Requirement already satisfied: cachetools<6.0,>=2.0.0 in /usr/local/lib/python3.11/dist-packages (from google-auth>=2.15.0->google-generativeai) (5.5.2)\n",
            "Requirement already satisfied: pyasn1-modules>=0.2.1 in /usr/local/lib/python3.11/dist-packages (from google-auth>=2.15.0->google-generativeai) (0.4.2)\n",
            "Requirement already satisfied: rsa<5,>=3.1.4 in /usr/local/lib/python3.11/dist-packages (from google-auth>=2.15.0->google-generativeai) (4.9.1)\n",
            "Requirement already satisfied: httplib2<1.dev0,>=0.19.0 in /usr/local/lib/python3.11/dist-packages (from google-api-python-client->google-generativeai) (0.22.0)\n",
            "Requirement already satisfied: google-auth-httplib2<1.0.0,>=0.2.0 in /usr/local/lib/python3.11/dist-packages (from google-api-python-client->google-generativeai) (0.2.0)\n",
            "Requirement already satisfied: uritemplate<5,>=3.0.1 in /usr/local/lib/python3.11/dist-packages (from google-api-python-client->google-generativeai) (4.1.1)\n",
            "Requirement already satisfied: annotated-types>=0.6.0 in /usr/local/lib/python3.11/dist-packages (from pydantic->google-generativeai) (0.7.0)\n",
            "Requirement already satisfied: pydantic-core==2.33.1 in /usr/local/lib/python3.11/dist-packages (from pydantic->google-generativeai) (2.33.1)\n",
            "Requirement already satisfied: typing-inspection>=0.4.0 in /usr/local/lib/python3.11/dist-packages (from pydantic->google-generativeai) (0.4.0)\n",
            "Requirement already satisfied: grpcio<2.0dev,>=1.33.2 in /usr/local/lib/python3.11/dist-packages (from google-api-core[grpc]!=2.0.*,!=2.1.*,!=2.10.*,!=2.2.*,!=2.3.*,!=2.4.*,!=2.5.*,!=2.6.*,!=2.7.*,!=2.8.*,!=2.9.*,<3.0.0dev,>=1.34.1->google-ai-generativelanguage==0.6.15->google-generativeai) (1.71.0)\n",
            "Requirement already satisfied: grpcio-status<2.0.dev0,>=1.33.2 in /usr/local/lib/python3.11/dist-packages (from google-api-core[grpc]!=2.0.*,!=2.1.*,!=2.10.*,!=2.2.*,!=2.3.*,!=2.4.*,!=2.5.*,!=2.6.*,!=2.7.*,!=2.8.*,!=2.9.*,<3.0.0dev,>=1.34.1->google-ai-generativelanguage==0.6.15->google-generativeai) (1.71.0)\n",
            "Requirement already satisfied: pyparsing!=3.0.0,!=3.0.1,!=3.0.2,!=3.0.3,<4,>=2.4.2 in /usr/local/lib/python3.11/dist-packages (from httplib2<1.dev0,>=0.19.0->google-api-python-client->google-generativeai) (3.2.3)\n",
            "Requirement already satisfied: pyasn1<0.7.0,>=0.6.1 in /usr/local/lib/python3.11/dist-packages (from pyasn1-modules>=0.2.1->google-auth>=2.15.0->google-generativeai) (0.6.1)\n",
            "Requirement already satisfied: charset-normalizer<4,>=2 in /usr/local/lib/python3.11/dist-packages (from requests<3.0.0,>=2.18.0->google-api-core->google-generativeai) (3.4.1)\n",
            "Requirement already satisfied: idna<4,>=2.5 in /usr/local/lib/python3.11/dist-packages (from requests<3.0.0,>=2.18.0->google-api-core->google-generativeai) (3.10)\n",
            "Requirement already satisfied: urllib3<3,>=1.21.1 in /usr/local/lib/python3.11/dist-packages (from requests<3.0.0,>=2.18.0->google-api-core->google-generativeai) (2.3.0)\n",
            "Requirement already satisfied: certifi>=2017.4.17 in /usr/local/lib/python3.11/dist-packages (from requests<3.0.0,>=2.18.0->google-api-core->google-generativeai) (2025.1.31)\n"
          ]
        }
      ],
      "source": [
        "!pip install google-generativeai"
      ]
    },
    {
      "cell_type": "code",
      "source": [
        "!pip install -U spacy\n",
        "!python -m spacy download en_core_web_sm"
      ],
      "metadata": {
        "colab": {
          "base_uri": "https://localhost:8080/"
        },
        "id": "ODHBmd1HoHE7",
        "outputId": "e958e964-ef8a-476d-a5c5-83e00e7f6048"
      },
      "execution_count": 22,
      "outputs": [
        {
          "output_type": "stream",
          "name": "stdout",
          "text": [
            "Requirement already satisfied: spacy in /usr/local/lib/python3.11/dist-packages (3.8.5)\n",
            "Requirement already satisfied: spacy-legacy<3.1.0,>=3.0.11 in /usr/local/lib/python3.11/dist-packages (from spacy) (3.0.12)\n",
            "Requirement already satisfied: spacy-loggers<2.0.0,>=1.0.0 in /usr/local/lib/python3.11/dist-packages (from spacy) (1.0.5)\n",
            "Requirement already satisfied: murmurhash<1.1.0,>=0.28.0 in /usr/local/lib/python3.11/dist-packages (from spacy) (1.0.12)\n",
            "Requirement already satisfied: cymem<2.1.0,>=2.0.2 in /usr/local/lib/python3.11/dist-packages (from spacy) (2.0.11)\n",
            "Requirement already satisfied: preshed<3.1.0,>=3.0.2 in /usr/local/lib/python3.11/dist-packages (from spacy) (3.0.9)\n",
            "Requirement already satisfied: thinc<8.4.0,>=8.3.4 in /usr/local/lib/python3.11/dist-packages (from spacy) (8.3.6)\n",
            "Requirement already satisfied: wasabi<1.2.0,>=0.9.1 in /usr/local/lib/python3.11/dist-packages (from spacy) (1.1.3)\n",
            "Requirement already satisfied: srsly<3.0.0,>=2.4.3 in /usr/local/lib/python3.11/dist-packages (from spacy) (2.5.1)\n",
            "Requirement already satisfied: catalogue<2.1.0,>=2.0.6 in /usr/local/lib/python3.11/dist-packages (from spacy) (2.0.10)\n",
            "Requirement already satisfied: weasel<0.5.0,>=0.1.0 in /usr/local/lib/python3.11/dist-packages (from spacy) (0.4.1)\n",
            "Requirement already satisfied: typer<1.0.0,>=0.3.0 in /usr/local/lib/python3.11/dist-packages (from spacy) (0.15.2)\n",
            "Requirement already satisfied: tqdm<5.0.0,>=4.38.0 in /usr/local/lib/python3.11/dist-packages (from spacy) (4.67.1)\n",
            "Requirement already satisfied: numpy>=1.19.0 in /usr/local/lib/python3.11/dist-packages (from spacy) (2.0.2)\n",
            "Requirement already satisfied: requests<3.0.0,>=2.13.0 in /usr/local/lib/python3.11/dist-packages (from spacy) (2.32.3)\n",
            "Requirement already satisfied: pydantic!=1.8,!=1.8.1,<3.0.0,>=1.7.4 in /usr/local/lib/python3.11/dist-packages (from spacy) (2.11.3)\n",
            "Requirement already satisfied: jinja2 in /usr/local/lib/python3.11/dist-packages (from spacy) (3.1.6)\n",
            "Requirement already satisfied: setuptools in /usr/local/lib/python3.11/dist-packages (from spacy) (75.2.0)\n",
            "Requirement already satisfied: packaging>=20.0 in /usr/local/lib/python3.11/dist-packages (from spacy) (24.2)\n",
            "Requirement already satisfied: langcodes<4.0.0,>=3.2.0 in /usr/local/lib/python3.11/dist-packages (from spacy) (3.5.0)\n",
            "Requirement already satisfied: language-data>=1.2 in /usr/local/lib/python3.11/dist-packages (from langcodes<4.0.0,>=3.2.0->spacy) (1.3.0)\n",
            "Requirement already satisfied: annotated-types>=0.6.0 in /usr/local/lib/python3.11/dist-packages (from pydantic!=1.8,!=1.8.1,<3.0.0,>=1.7.4->spacy) (0.7.0)\n",
            "Requirement already satisfied: pydantic-core==2.33.1 in /usr/local/lib/python3.11/dist-packages (from pydantic!=1.8,!=1.8.1,<3.0.0,>=1.7.4->spacy) (2.33.1)\n",
            "Requirement already satisfied: typing-extensions>=4.12.2 in /usr/local/lib/python3.11/dist-packages (from pydantic!=1.8,!=1.8.1,<3.0.0,>=1.7.4->spacy) (4.13.2)\n",
            "Requirement already satisfied: typing-inspection>=0.4.0 in /usr/local/lib/python3.11/dist-packages (from pydantic!=1.8,!=1.8.1,<3.0.0,>=1.7.4->spacy) (0.4.0)\n",
            "Requirement already satisfied: charset-normalizer<4,>=2 in /usr/local/lib/python3.11/dist-packages (from requests<3.0.0,>=2.13.0->spacy) (3.4.1)\n",
            "Requirement already satisfied: idna<4,>=2.5 in /usr/local/lib/python3.11/dist-packages (from requests<3.0.0,>=2.13.0->spacy) (3.10)\n",
            "Requirement already satisfied: urllib3<3,>=1.21.1 in /usr/local/lib/python3.11/dist-packages (from requests<3.0.0,>=2.13.0->spacy) (2.3.0)\n",
            "Requirement already satisfied: certifi>=2017.4.17 in /usr/local/lib/python3.11/dist-packages (from requests<3.0.0,>=2.13.0->spacy) (2025.1.31)\n",
            "Requirement already satisfied: blis<1.4.0,>=1.3.0 in /usr/local/lib/python3.11/dist-packages (from thinc<8.4.0,>=8.3.4->spacy) (1.3.0)\n",
            "Requirement already satisfied: confection<1.0.0,>=0.0.1 in /usr/local/lib/python3.11/dist-packages (from thinc<8.4.0,>=8.3.4->spacy) (0.1.5)\n",
            "Requirement already satisfied: click>=8.0.0 in /usr/local/lib/python3.11/dist-packages (from typer<1.0.0,>=0.3.0->spacy) (8.1.8)\n",
            "Requirement already satisfied: shellingham>=1.3.0 in /usr/local/lib/python3.11/dist-packages (from typer<1.0.0,>=0.3.0->spacy) (1.5.4)\n",
            "Requirement already satisfied: rich>=10.11.0 in /usr/local/lib/python3.11/dist-packages (from typer<1.0.0,>=0.3.0->spacy) (13.9.4)\n",
            "Requirement already satisfied: cloudpathlib<1.0.0,>=0.7.0 in /usr/local/lib/python3.11/dist-packages (from weasel<0.5.0,>=0.1.0->spacy) (0.21.0)\n",
            "Requirement already satisfied: smart-open<8.0.0,>=5.2.1 in /usr/local/lib/python3.11/dist-packages (from weasel<0.5.0,>=0.1.0->spacy) (7.1.0)\n",
            "Requirement already satisfied: MarkupSafe>=2.0 in /usr/local/lib/python3.11/dist-packages (from jinja2->spacy) (3.0.2)\n",
            "Requirement already satisfied: marisa-trie>=1.1.0 in /usr/local/lib/python3.11/dist-packages (from language-data>=1.2->langcodes<4.0.0,>=3.2.0->spacy) (1.2.1)\n",
            "Requirement already satisfied: markdown-it-py>=2.2.0 in /usr/local/lib/python3.11/dist-packages (from rich>=10.11.0->typer<1.0.0,>=0.3.0->spacy) (3.0.0)\n",
            "Requirement already satisfied: pygments<3.0.0,>=2.13.0 in /usr/local/lib/python3.11/dist-packages (from rich>=10.11.0->typer<1.0.0,>=0.3.0->spacy) (2.18.0)\n",
            "Requirement already satisfied: wrapt in /usr/local/lib/python3.11/dist-packages (from smart-open<8.0.0,>=5.2.1->weasel<0.5.0,>=0.1.0->spacy) (1.17.2)\n",
            "Requirement already satisfied: mdurl~=0.1 in /usr/local/lib/python3.11/dist-packages (from markdown-it-py>=2.2.0->rich>=10.11.0->typer<1.0.0,>=0.3.0->spacy) (0.1.2)\n",
            "Collecting en-core-web-sm==3.8.0\n",
            "  Downloading https://github.com/explosion/spacy-models/releases/download/en_core_web_sm-3.8.0/en_core_web_sm-3.8.0-py3-none-any.whl (12.8 MB)\n",
            "\u001b[2K     \u001b[90m━━━━━━━━━━━━━━━━━━━━━━━━━━━━━━━━━━━━━━━━\u001b[0m \u001b[32m12.8/12.8 MB\u001b[0m \u001b[31m61.1 MB/s\u001b[0m eta \u001b[36m0:00:00\u001b[0m\n",
            "\u001b[?25h\u001b[38;5;2m✔ Download and installation successful\u001b[0m\n",
            "You can now load the package via spacy.load('en_core_web_sm')\n",
            "\u001b[38;5;3m⚠ Restart to reload dependencies\u001b[0m\n",
            "If you are in a Jupyter or Colab notebook, you may need to restart Python in\n",
            "order to load all the package's dependencies. You can do this by selecting the\n",
            "'Restart kernel' or 'Restart runtime' option.\n"
          ]
        }
      ]
    },
    {
      "cell_type": "code",
      "source": [
        "import os\n",
        "from google.colab import userdata\n",
        "\n",
        "os.environ[\"GOOGLE_API_KEY\"] = userdata.get('GOOGLE_API_KEY_1')"
      ],
      "metadata": {
        "id": "M7J--uZCkkCV"
      },
      "execution_count": 1,
      "outputs": []
    },
    {
      "cell_type": "code",
      "source": [
        "import google.generativeai as genai\n",
        "\n",
        "\n",
        "genai.configure(api_key=os.environ[\"GOOGLE_API_KEY\"])\n",
        "model = genai.GenerativeModel(\"gemini-2.0-flash\")"
      ],
      "metadata": {
        "id": "2eGwFE2bkplk"
      },
      "execution_count": 7,
      "outputs": []
    },
    {
      "cell_type": "markdown",
      "source": [
        "# Get Input prompt And Generate story"
      ],
      "metadata": {
        "id": "67giKOXlliTq"
      }
    },
    {
      "cell_type": "code",
      "source": [
        "user_prompt = input(\"Enter your prompt for the story: \")\n",
        "generation_prompt = f\"Write a short story of about 100 words based on the prompt: {user_prompt}\""
      ],
      "metadata": {
        "colab": {
          "base_uri": "https://localhost:8080/"
        },
        "id": "q8Z60pL_k9nA",
        "outputId": "e369cb1b-2dee-4322-f579-40d1dc742e52"
      },
      "execution_count": 3,
      "outputs": [
        {
          "name": "stdout",
          "output_type": "stream",
          "text": [
            "Enter your prompt for the story: butterfly\n"
          ]
        }
      ]
    },
    {
      "cell_type": "code",
      "source": [
        "response = model.generate_content(generation_prompt)\n",
        "story = response.text.strip()\n",
        "print(\"\\nGenerated Story:\\n\", story)"
      ],
      "metadata": {
        "colab": {
          "base_uri": "https://localhost:8080/",
          "height": 162
        },
        "id": "HZ6JFAlOlQbn",
        "outputId": "ea87bf0a-c4fc-4742-8908-56900fd8be4e"
      },
      "execution_count": 4,
      "outputs": [
        {
          "output_type": "stream",
          "name": "stdout",
          "text": [
            "\n",
            "Generated Story:\n",
            " The butterfly, wings a kaleidoscope of blues and oranges, landed delicately on Elara's outstretched finger. She held her breath, mesmerized. It had emerged just this morning, a wrinkled thing, and now, hours later, it was a creature of vibrant grace.\n",
            "\n",
            "Elara, usually clumsy and awkward, felt a strange kinship with the butterfly. It too had been transformed, shedding its dull skin for something beautiful and new. It fluttered once, twice, then launched itself into the air, a tiny burst of freedom.\n",
            "\n",
            "Elara watched it go, a smile blossoming on her face. Perhaps, she thought, metamorphosis wasn't just for caterpillars. Maybe, just maybe, it was for her too. The butterfly's flight was a promise, a whisper of possibility on the summer breeze.\n"
          ]
        }
      ]
    },
    {
      "cell_type": "markdown",
      "source": [
        "# Generate embeddings"
      ],
      "metadata": {
        "id": "h_Ds0LmMlzM4"
      }
    },
    {
      "cell_type": "code",
      "source": [
        "embedding_response = genai.embed_content(\n",
        "    model=\"models/embedding-001\",\n",
        "    content=story,\n",
        "    task_type=\"retrieval_document\"\n",
        ")\n",
        "\n",
        "\n",
        "embeddings = embedding_response['embedding']\n",
        "print(\"First 5 embedding values:\", embeddings[:5])"
      ],
      "metadata": {
        "colab": {
          "base_uri": "https://localhost:8080/",
          "height": 35
        },
        "id": "afMOIlt8lRIs",
        "outputId": "bdcffdcf-be0b-4037-d869-48461a7bc1f8"
      },
      "execution_count": 5,
      "outputs": [
        {
          "output_type": "stream",
          "name": "stdout",
          "text": [
            "First 5 embedding values: [0.039568618, 0.016560989, -0.019717326, 0.0045887846, 0.06305263]\n"
          ]
        }
      ]
    },
    {
      "cell_type": "markdown",
      "source": [
        "# Part-of-speech in the generated story"
      ],
      "metadata": {
        "id": "U5838h2epKYs"
      }
    },
    {
      "source": [
        "import spacy\n",
        "\n",
        "nlp = spacy.load(\"en_core_web_sm\")\n",
        "\n",
        "doc = nlp(story)\n",
        "\n",
        "\n",
        "print(\"Part-of-Speech Tags:\\n\")\n",
        "for token in doc:\n",
        "    print(f\"{token.text}: {token.pos_} ({token.tag_})\")\n"
      ],
      "cell_type": "code",
      "metadata": {
        "colab": {
          "base_uri": "https://localhost:8080/"
        },
        "id": "CvnDThk8mVhw",
        "outputId": "ba774039-2d1f-4388-dd72-ee0a01f93b62"
      },
      "execution_count": 6,
      "outputs": [
        {
          "output_type": "stream",
          "name": "stdout",
          "text": [
            "Part-of-Speech Tags:\n",
            "\n",
            "The: DET (DT)\n",
            "butterfly: NOUN (NN)\n",
            ",: PUNCT (,)\n",
            "wings: VERB (VBZ)\n",
            "a: DET (DT)\n",
            "kaleidoscope: NOUN (NN)\n",
            "of: ADP (IN)\n",
            "blues: NOUN (NNS)\n",
            "and: CCONJ (CC)\n",
            "oranges: NOUN (NNS)\n",
            ",: PUNCT (,)\n",
            "landed: VERB (VBD)\n",
            "delicately: ADV (RB)\n",
            "on: ADP (IN)\n",
            "Elara: PROPN (NNP)\n",
            "'s: PART (POS)\n",
            "outstretched: VERB (VBN)\n",
            "finger: NOUN (NN)\n",
            ".: PUNCT (.)\n",
            "She: PRON (PRP)\n",
            "held: VERB (VBD)\n",
            "her: PRON (PRP$)\n",
            "breath: NOUN (NN)\n",
            ",: PUNCT (,)\n",
            "mesmerized: VERB (VBN)\n",
            ".: PUNCT (.)\n",
            "It: PRON (PRP)\n",
            "had: AUX (VBD)\n",
            "emerged: VERB (VBN)\n",
            "just: ADV (RB)\n",
            "this: DET (DT)\n",
            "morning: NOUN (NN)\n",
            ",: PUNCT (,)\n",
            "a: DET (DT)\n",
            "wrinkled: VERB (VBN)\n",
            "thing: NOUN (NN)\n",
            ",: PUNCT (,)\n",
            "and: CCONJ (CC)\n",
            "now: ADV (RB)\n",
            ",: PUNCT (,)\n",
            "hours: NOUN (NNS)\n",
            "later: ADV (RB)\n",
            ",: PUNCT (,)\n",
            "it: PRON (PRP)\n",
            "was: AUX (VBD)\n",
            "a: DET (DT)\n",
            "creature: NOUN (NN)\n",
            "of: ADP (IN)\n",
            "vibrant: ADJ (JJ)\n",
            "grace: NOUN (NN)\n",
            ".: PUNCT (.)\n",
            "\n",
            "\n",
            ": SPACE (_SP)\n",
            "Elara: PROPN (NNP)\n",
            ",: PUNCT (,)\n",
            "usually: ADV (RB)\n",
            "clumsy: ADJ (JJ)\n",
            "and: CCONJ (CC)\n",
            "awkward: ADJ (JJ)\n",
            ",: PUNCT (,)\n",
            "felt: VERB (VBD)\n",
            "a: DET (DT)\n",
            "strange: ADJ (JJ)\n",
            "kinship: NOUN (NN)\n",
            "with: ADP (IN)\n",
            "the: DET (DT)\n",
            "butterfly: NOUN (NN)\n",
            ".: PUNCT (.)\n",
            "It: PRON (PRP)\n",
            "too: ADV (RB)\n",
            "had: AUX (VBD)\n",
            "been: AUX (VBN)\n",
            "transformed: VERB (VBN)\n",
            ",: PUNCT (,)\n",
            "shedding: VERB (VBG)\n",
            "its: PRON (PRP$)\n",
            "dull: ADJ (JJ)\n",
            "skin: NOUN (NN)\n",
            "for: ADP (IN)\n",
            "something: PRON (NN)\n",
            "beautiful: ADJ (JJ)\n",
            "and: CCONJ (CC)\n",
            "new: ADJ (JJ)\n",
            ".: PUNCT (.)\n",
            "It: PRON (PRP)\n",
            "fluttered: VERB (VBD)\n",
            "once: ADV (RB)\n",
            ",: PUNCT (,)\n",
            "twice: ADV (RB)\n",
            ",: PUNCT (,)\n",
            "then: ADV (RB)\n",
            "launched: VERB (VBD)\n",
            "itself: PRON (PRP)\n",
            "into: ADP (IN)\n",
            "the: DET (DT)\n",
            "air: NOUN (NN)\n",
            ",: PUNCT (,)\n",
            "a: DET (DT)\n",
            "tiny: ADJ (JJ)\n",
            "burst: NOUN (NN)\n",
            "of: ADP (IN)\n",
            "freedom: NOUN (NN)\n",
            ".: PUNCT (.)\n",
            "\n",
            "\n",
            ": SPACE (_SP)\n",
            "Elara: PROPN (NNP)\n",
            "watched: VERB (VBD)\n",
            "it: PRON (PRP)\n",
            "go: VERB (VB)\n",
            ",: PUNCT (,)\n",
            "a: DET (DT)\n",
            "smile: NOUN (NN)\n",
            "blossoming: VERB (VBG)\n",
            "on: ADP (IN)\n",
            "her: PRON (PRP$)\n",
            "face: NOUN (NN)\n",
            ".: PUNCT (.)\n",
            "Perhaps: ADV (RB)\n",
            ",: PUNCT (,)\n",
            "she: PRON (PRP)\n",
            "thought: VERB (VBD)\n",
            ",: PUNCT (,)\n",
            "metamorphosis: NOUN (NN)\n",
            "was: AUX (VBD)\n",
            "n't: PART (RB)\n",
            "just: ADV (RB)\n",
            "for: ADP (IN)\n",
            "caterpillars: NOUN (NNS)\n",
            ".: PUNCT (.)\n",
            "Maybe: ADV (RB)\n",
            ",: PUNCT (,)\n",
            "just: ADV (RB)\n",
            "maybe: ADV (RB)\n",
            ",: PUNCT (,)\n",
            "it: PRON (PRP)\n",
            "was: AUX (VBD)\n",
            "for: ADP (IN)\n",
            "her: PRON (PRP)\n",
            "too: ADV (RB)\n",
            ".: PUNCT (.)\n",
            "The: DET (DT)\n",
            "butterfly: NOUN (NN)\n",
            "'s: PART (POS)\n",
            "flight: NOUN (NN)\n",
            "was: AUX (VBD)\n",
            "a: DET (DT)\n",
            "promise: NOUN (NN)\n",
            ",: PUNCT (,)\n",
            "a: DET (DT)\n",
            "whisper: NOUN (NN)\n",
            "of: ADP (IN)\n",
            "possibility: NOUN (NN)\n",
            "on: ADP (IN)\n",
            "the: DET (DT)\n",
            "summer: NOUN (NN)\n",
            "breeze: NOUN (NN)\n",
            ".: PUNCT (.)\n"
          ]
        }
      ]
    },
    {
      "cell_type": "code",
      "source": [],
      "metadata": {
        "id": "eC9_7eg3pFNj"
      },
      "execution_count": null,
      "outputs": []
    }
  ]
}